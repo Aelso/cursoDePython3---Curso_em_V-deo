{
  "nbformat": 4,
  "nbformat_minor": 0,
  "metadata": {
    "colab": {
      "name": "cursoDePython3Mundo1Aula08a09- Curso em Vídeo.ipynb",
      "provenance": [],
      "collapsed_sections": []
    },
    "kernelspec": {
      "name": "python3",
      "display_name": "Python 3"
    },
    "language_info": {
      "name": "python"
    }
  },
  "cells": [
    {
      "cell_type": "markdown",
      "metadata": {
        "id": "q_XPhTSaDRKe"
      },
      "source": [
        "\n",
        "### **Aluno: Aelso Rocha Brito**\n",
        "# **notebookComAnotaçõesDaVideoaula**\n",
        "---\n",
        "\n",
        "## `Créditos`\n",
        "\n",
        "---\n",
        "\n",
        "> ## `CursoEmVideo`\n",
        "https://www.cursoemvideo.com/\n",
        "---\n",
        "##`Agradecimento ao professor Gustavo Guanabara`"
      ]
    },
    {
      "cell_type": "markdown",
      "metadata": {
        "id": "TW4C350G85jq"
      },
      "source": [
        "## **#`08 - Utilizando Módulos`**\n",
        "\n",
        "---\n",
        "https://www.youtube.com/watch?v=oOUyhGNib2Q\n",
        "\n",
        "---\n",
        "**`Biblioteca`**\n",
        "\n",
        "`Exemplo:`\n",
        "`math:`\n",
        ">### `ceil # arredondamento para cima`\n",
        ">###` floor # arredondamento para baixo`\n",
        ">### `trunc # truncar um número`\n",
        ">### `pow # potência`\n",
        ">### `sqrt # raiz quadrada`\n",
        ">### `factorial # factorial do número`\n",
        "\n",
        "---\n",
        "## `import math # importa todas as funcionalidades. Se quiser utilizar somente uma funcionalidade`\n",
        "\n",
        "## `from math import sqrt`\n",
        "##`importa duas funcionalidades`\n",
        "## `from math import sqrt, ceil`"
      ]
    },
    {
      "cell_type": "code",
      "metadata": {
        "colab": {
          "base_uri": "https://localhost:8080/"
        },
        "id": "e_Di7scQ74gK",
        "outputId": "df5f184d-921e-4eb3-d354-324be21192a4"
      },
      "source": [
        "from math import sqrt\n",
        "num = int(input('Digite esse número:'))\n",
        "num"
      ],
      "execution_count": 3,
      "outputs": [
        {
          "name": "stdout",
          "output_type": "stream",
          "text": [
            "Digite esse número:87\n"
          ]
        },
        {
          "output_type": "execute_result",
          "data": {
            "text/plain": [
              "87"
            ]
          },
          "metadata": {},
          "execution_count": 3
        }
      ]
    },
    {
      "cell_type": "code",
      "metadata": {
        "colab": {
          "base_uri": "https://localhost:8080/"
        },
        "id": "wQgu0_ow8ROY",
        "outputId": "01b668f3-9631-4821-f273-5131ccbec519"
      },
      "source": [
        "raiz =sqrt(num)\n",
        "print('A Raiz quadrada de {} é {:.2f}'.format(num, raiz))"
      ],
      "execution_count": 5,
      "outputs": [
        {
          "output_type": "stream",
          "name": "stdout",
          "text": [
            "A Raiz quadrada de 87 é 9.33\n"
          ]
        }
      ]
    },
    {
      "cell_type": "code",
      "metadata": {
        "colab": {
          "base_uri": "https://localhost:8080/"
        },
        "id": "h2B0cMsy8gso",
        "outputId": "0ff4bff6-4c7c-4e24-fd52-268e0161e7ef"
      },
      "source": [
        "from random import random\n",
        "num = random()\n",
        "print(num)"
      ],
      "execution_count": 15,
      "outputs": [
        {
          "output_type": "stream",
          "name": "stdout",
          "text": [
            "0.1297198868511208\n"
          ]
        }
      ]
    },
    {
      "cell_type": "code",
      "metadata": {
        "colab": {
          "base_uri": "https://localhost:8080/"
        },
        "id": "fCGPV4918q6m",
        "outputId": "482f9fa5-b8ad-4d64-89ca-cf66b3a44e18"
      },
      "source": [
        "from random import randint\n",
        "num = randint(0,10)# range do aleatório\n",
        "print(num)"
      ],
      "execution_count": 20,
      "outputs": [
        {
          "output_type": "stream",
          "name": "stdout",
          "text": [
            "1\n"
          ]
        }
      ]
    },
    {
      "cell_type": "code",
      "metadata": {
        "colab": {
          "base_uri": "https://localhost:8080/"
        },
        "id": "CJzejcJ298ZI",
        "outputId": "4af11957-968a-41f2-e6f6-94d298549dfc"
      },
      "source": [
        "pip install emoji"
      ],
      "execution_count": 24,
      "outputs": [
        {
          "output_type": "stream",
          "name": "stdout",
          "text": [
            "Collecting emoji\n",
            "  Downloading emoji-1.6.1.tar.gz (170 kB)\n",
            "\u001b[?25l\r\u001b[K     |██                              | 10 kB 18.6 MB/s eta 0:00:01\r\u001b[K     |███▉                            | 20 kB 24.4 MB/s eta 0:00:01\r\u001b[K     |█████▉                          | 30 kB 12.9 MB/s eta 0:00:01\r\u001b[K     |███████▊                        | 40 kB 9.8 MB/s eta 0:00:01\r\u001b[K     |█████████▋                      | 51 kB 5.1 MB/s eta 0:00:01\r\u001b[K     |███████████▋                    | 61 kB 5.2 MB/s eta 0:00:01\r\u001b[K     |█████████████▌                  | 71 kB 5.8 MB/s eta 0:00:01\r\u001b[K     |███████████████▍                | 81 kB 6.4 MB/s eta 0:00:01\r\u001b[K     |█████████████████▍              | 92 kB 4.7 MB/s eta 0:00:01\r\u001b[K     |███████████████████▎            | 102 kB 5.1 MB/s eta 0:00:01\r\u001b[K     |█████████████████████▏          | 112 kB 5.1 MB/s eta 0:00:01\r\u001b[K     |███████████████████████▏        | 122 kB 5.1 MB/s eta 0:00:01\r\u001b[K     |█████████████████████████       | 133 kB 5.1 MB/s eta 0:00:01\r\u001b[K     |███████████████████████████     | 143 kB 5.1 MB/s eta 0:00:01\r\u001b[K     |█████████████████████████████   | 153 kB 5.1 MB/s eta 0:00:01\r\u001b[K     |██████████████████████████████▉ | 163 kB 5.1 MB/s eta 0:00:01\r\u001b[K     |████████████████████████████████| 170 kB 5.1 MB/s \n",
            "\u001b[?25hBuilding wheels for collected packages: emoji\n",
            "  Building wheel for emoji (setup.py) ... \u001b[?25l\u001b[?25hdone\n",
            "  Created wheel for emoji: filename=emoji-1.6.1-py3-none-any.whl size=169314 sha256=78738cac5048f9fa8618eb5508bde7eaa519afa467c8aabaabe38f5feee2fea1\n",
            "  Stored in directory: /root/.cache/pip/wheels/ea/5f/d3/03d313ddb3c2a1a427bb4690f1621eea60fe6f2a30cc95940f\n",
            "Successfully built emoji\n",
            "Installing collected packages: emoji\n",
            "Successfully installed emoji-1.6.1\n"
          ]
        }
      ]
    },
    {
      "cell_type": "code",
      "metadata": {
        "colab": {
          "base_uri": "https://localhost:8080/"
        },
        "id": "kAW1M--e9d4C",
        "outputId": "5ba4292e-94f0-48c0-bfc0-9bec9218a903"
      },
      "source": [
        "import emoji\n",
        "print(emoji.emojize('Olá, mundo :earth_americas:', use_aliases=True))"
      ],
      "execution_count": 27,
      "outputs": [
        {
          "output_type": "stream",
          "name": "stdout",
          "text": [
            "Olá, mundo 🌎\n"
          ]
        }
      ]
    },
    {
      "cell_type": "markdown",
      "metadata": {
        "id": "GclRe9rVldCh"
      },
      "source": [
        "### **Exercício Python #016 - Quebrando um número**\n",
        "---\n",
        "https://www.youtube.com/watch?v=-iSbDpl5Jhw&pbjreload=101\n",
        "\n",
        "---\n",
        "## `Crie um programa que lê o número real qualquer para teclados e mostre na tela a sua porção inteira.` \n",
        "\n",
        "## *`Por exemplo: digite um número: 6.127`*\n",
        "\n",
        "## *`O número 6.127 tem a parte inteira 6.`*"
      ]
    },
    {
      "cell_type": "code",
      "metadata": {
        "colab": {
          "base_uri": "https://localhost:8080/"
        },
        "id": "hf47wkSb-mu9",
        "outputId": "ec6da773-5e34-44fe-9952-7ee38f6832b0"
      },
      "source": [
        "import math\n",
        "\n",
        "num = float(input('Digite um número real: '))\n",
        "numtru = math.trunc(num)\n",
        "print(f'o número {num} porção inteira {numtru}')"
      ],
      "execution_count": 28,
      "outputs": [
        {
          "output_type": "stream",
          "name": "stdout",
          "text": [
            "Digite um número real: 12.56\n",
            "o número 12.56 porção inteira 12\n"
          ]
        }
      ]
    },
    {
      "cell_type": "markdown",
      "metadata": {
        "id": "ffICZQs7_7an"
      },
      "source": [
        "### **Exercício Python #017 - Catetos e Hipotenusa**\n",
        "---\n",
        "https://www.youtube.com/watch?v=vmPW9iWsYkY\n",
        "\n",
        "---\n",
        "## *`Faça um programa que leia o comprimento do cateto oposto de um triângulo e do cateto adjacente de um triângulo retângulo, calcule e mostre o comprimento da hipotenusa` **"
      ]
    },
    {
      "cell_type": "code",
      "metadata": {
        "colab": {
          "base_uri": "https://localhost:8080/"
        },
        "id": "4i4xGqBCAHj8",
        "outputId": "02523f70-facc-4846-d299-84df3038ff65"
      },
      "source": [
        "catop = float(input('Digite o comprimento do cateto oposto:'))\n",
        "catado = float(input('Digite o comprimento do cateto adjacente:'))\n",
        "hip = (catop ** 2 + catado ** 2) ** (1/2)\n",
        "print('O comprimento da hipotenusa é {:.2f}'.format(hip))"
      ],
      "execution_count": 29,
      "outputs": [
        {
          "output_type": "stream",
          "name": "stdout",
          "text": [
            "Digite o comprimento do cateto oposto:12\n",
            "Digite o comprimento do cateto adjacente:48\n",
            "O comprimento da hipotenusa é 49.48\n"
          ]
        }
      ]
    },
    {
      "cell_type": "markdown",
      "metadata": {
        "id": "8f-ckX_W_7iu"
      },
      "source": [
        "### **Exercício Python #018 - Seno, Cosseno e Tangente**\n",
        "---\n",
        "https://www.youtube.com/watch?v=9GvsphwW26k\n",
        "\n",
        "---\n",
        "## *`Faça um programa que leia um ângulo qualquer e mostre na tela o valor do seu seno, o cosseno e tangente desse ângulo.`*"
      ]
    },
    {
      "cell_type": "markdown",
      "metadata": {
        "id": "qvPE5H4_BPS3"
      },
      "source": [
        "### **Exercício Python #018 - Seno, Cosseno e Tangente**\n",
        "---\n",
        "https://www.youtube.com/watch?v=9GvsphwW26k\n",
        "\n",
        "---\n",
        "## *`Faça um programa que leia um ângulo qualquer e mostre na tela o valor do seu seno, o cosseno e tangente desse ângulo.`*"
      ]
    },
    {
      "cell_type": "markdown",
      "metadata": {
        "id": "ge--OP7TBPeX"
      },
      "source": [
        "### **Exercício Python #018 - Seno, Cosseno e Tangente**\n",
        "---\n",
        "https://www.youtube.com/watch?v=9GvsphwW26k\n",
        "\n",
        "---\n",
        "## *`Faça um programa que leia um ângulo qualquer e mostre na tela o valor do seu seno, o cosseno e tangente desse ângulo.`*"
      ]
    },
    {
      "cell_type": "markdown",
      "metadata": {
        "id": "tsmE_xp8BPjI"
      },
      "source": [
        "### **Exercício Python #018 - Seno, Cosseno e Tangente**\n",
        "---\n",
        "https://www.youtube.com/watch?v=9GvsphwW26k\n",
        "\n",
        "---\n",
        "## *`Faça um programa que leia um ângulo qualquer e mostre na tela o valor do seu seno, o cosseno e tangente desse ângulo.`*"
      ]
    },
    {
      "cell_type": "code",
      "metadata": {
        "colab": {
          "base_uri": "https://localhost:8080/"
        },
        "id": "uNKbm1T2BSnK",
        "outputId": "72232a76-656e-4009-c69f-c0b858c3c795"
      },
      "source": [
        "import math\n",
        "\n",
        "ang = int (input('Digite o valor do ângulo:'))\n",
        "sin = math.sin(ang)\n",
        "cos = math.sin(ang)\n",
        "tan = math.tan(ang)\n",
        "print('Do ângulo digitado:valor do seu seno {:.2f}, do cosseno {:.2f} e tangente é {:.2f} '.format(sin, cos, tan))"
      ],
      "execution_count": 30,
      "outputs": [
        {
          "output_type": "stream",
          "name": "stdout",
          "text": [
            "Digite o valor do ângulo:84\n",
            "Do ângulo digitado:valor do seu seno 0.73, do cosseno 0.73 e tangente -1.08 \n"
          ]
        }
      ]
    },
    {
      "cell_type": "markdown",
      "metadata": {
        "id": "xf3jHb6wBPmn"
      },
      "source": [
        "### **Exercício Python #019 - Sorteando um item na lista**\n",
        "---\n",
        "https://www.youtube.com/watch?v=_Nk02-mfB5I\n",
        "\n",
        "---\n",
        "## *`Um professor quer sortear um dos seus quatro alunos para apagar o quadro. Faça um programa que ajude a ele, lendo o nome deles e escrevendo o nome do escolhido.`*"
      ]
    },
    {
      "cell_type": "code",
      "metadata": {
        "colab": {
          "base_uri": "https://localhost:8080/"
        },
        "id": "nJ2uZgSIBjXM",
        "outputId": "140d1f88-12b5-434b-f466-6ab16a07e702"
      },
      "source": [
        "import random\n",
        "al1 = str(input('Digite o nome do primeiro aluno: '))\n",
        "al2 = str(input('Digite o nome do segundo aluno: '))\n",
        "al3 = str(input('Digite o nome do terceiro aluno: '))\n",
        "al4 = str(input('Digite o nome do quarto aluno: '))\n",
        "sortaluno = [al1, al2, al3, al4]\n",
        "print('O aluno sorte é {}'.format(random.choice(sortaluno)))"
      ],
      "execution_count": 31,
      "outputs": [
        {
          "output_type": "stream",
          "name": "stdout",
          "text": [
            "Digite o nome do primeiro aluno: Aelso\n",
            "Digite o nome do segundo aluno: ede\n",
            "Digite o nome do terceiro aluno: derrq\n",
            "Digite o nome do quarto aluno: wweewe\n",
            "O aluno sorte é ede\n"
          ]
        }
      ]
    },
    {
      "cell_type": "code",
      "metadata": {
        "colab": {
          "base_uri": "https://localhost:8080/",
          "height": 264
        },
        "id": "RBcIrXOkBtXp",
        "outputId": "9b509018-bb27-40dc-f64d-08c6703c020f"
      },
      "source": [
        "#Tentativa 1 \n",
        "import random\n",
        "\n",
        "nalun = int(input('Digite a quantidade de alunos para sortear: '))\n",
        "cont = 0\n",
        "while cont < nalun:\n",
        "    sort = []\n",
        "    aluns = input('digite nome do aluno')\n",
        "    sort.append(aluns)\n",
        "    cont = cont + 1\n",
        "var = random.Random(sort)\n",
        "print('O aluno sorteado foi {}'.format(random.choice(sort)))"
      ],
      "execution_count": 32,
      "outputs": [
        {
          "name": "stdout",
          "output_type": "stream",
          "text": [
            "Digite a quantidade de alunos para sortear: fr\n"
          ]
        },
        {
          "output_type": "error",
          "ename": "ValueError",
          "evalue": "ignored",
          "traceback": [
            "\u001b[0;31m---------------------------------------------------------------------------\u001b[0m",
            "\u001b[0;31mValueError\u001b[0m                                Traceback (most recent call last)",
            "\u001b[0;32m<ipython-input-32-f50da3153268>\u001b[0m in \u001b[0;36m<module>\u001b[0;34m()\u001b[0m\n\u001b[1;32m      2\u001b[0m \u001b[0;32mimport\u001b[0m \u001b[0mrandom\u001b[0m\u001b[0;34m\u001b[0m\u001b[0;34m\u001b[0m\u001b[0m\n\u001b[1;32m      3\u001b[0m \u001b[0;34m\u001b[0m\u001b[0m\n\u001b[0;32m----> 4\u001b[0;31m \u001b[0mnalun\u001b[0m \u001b[0;34m=\u001b[0m \u001b[0mint\u001b[0m\u001b[0;34m(\u001b[0m\u001b[0minput\u001b[0m\u001b[0;34m(\u001b[0m\u001b[0;34m'Digite a quantidade de alunos para sortear: '\u001b[0m\u001b[0;34m)\u001b[0m\u001b[0;34m)\u001b[0m\u001b[0;34m\u001b[0m\u001b[0;34m\u001b[0m\u001b[0m\n\u001b[0m\u001b[1;32m      5\u001b[0m \u001b[0mcont\u001b[0m \u001b[0;34m=\u001b[0m \u001b[0;36m0\u001b[0m\u001b[0;34m\u001b[0m\u001b[0;34m\u001b[0m\u001b[0m\n\u001b[1;32m      6\u001b[0m \u001b[0;32mwhile\u001b[0m \u001b[0mcont\u001b[0m \u001b[0;34m<\u001b[0m \u001b[0mnalun\u001b[0m\u001b[0;34m:\u001b[0m\u001b[0;34m\u001b[0m\u001b[0;34m\u001b[0m\u001b[0m\n",
            "\u001b[0;31mValueError\u001b[0m: invalid literal for int() with base 10: 'fr'"
          ]
        }
      ]
    },
    {
      "cell_type": "markdown",
      "metadata": {
        "id": "mNzyTcIlBPpg"
      },
      "source": [
        "### **Exercício Python #020 - Sorteando uma ordem na lista**\n",
        "---\n",
        "https://www.youtube.com/watch?v=OPh0nngbBSY \n",
        "\n",
        "---\n",
        "## *`O mesmo professor do desafio anterior quer sortear a ordem de apresentação de trabalhos dos alunos. Faça um programa que leia o nome dos quatro alunos e mostre a ordem sorteada.`*"
      ]
    },
    {
      "cell_type": "code",
      "metadata": {
        "colab": {
          "base_uri": "https://localhost:8080/"
        },
        "id": "jJz_5krhCC-p",
        "outputId": "3150ebe4-9b54-4b2d-8839-ee81bb5ca22d"
      },
      "source": [
        "import random\n",
        "\n",
        "al1 = str(input('Digite o nome do primeiro aluno: '))\n",
        "al2 = str(input('Digite o nome do segundo aluno: '))\n",
        "al3 = str(input('Digite o nome do terceiro aluno: '))\n",
        "al4 = str(input('Digite o nome do quarto aluno: '))\n",
        "sortaluno = [al1, al2, al3, al4]\n",
        "print('O aluno sorte é {}'.format(random.sample(sortaluno,4)))"
      ],
      "execution_count": 33,
      "outputs": [
        {
          "output_type": "stream",
          "name": "stdout",
          "text": [
            "Digite o nome do primeiro aluno: fdf\n",
            "Digite o nome do segundo aluno: erer\n",
            "Digite o nome do terceiro aluno: www\n",
            "Digite o nome do quarto aluno: qqq\n",
            "O aluno sorte é ['qqq', 'fdf', 'erer', 'www']\n"
          ]
        }
      ]
    },
    {
      "cell_type": "markdown",
      "metadata": {
        "id": "HB4seOxZBPr_"
      },
      "source": [
        "### **Exercício Python #021 - Tocando um MP3**\n",
        "---\n",
        "https://www.youtube.com/watch?v=9FiEji_fzvk\n",
        "\n",
        "---\n",
        "## *`Faça um programa em Python que abra e reproduza o áudio de um arquivo MP3.`* "
      ]
    },
    {
      "cell_type": "code",
      "metadata": {
        "colab": {
          "base_uri": "https://localhost:8080/"
        },
        "id": "FPR5ZEo-CXig",
        "outputId": "f5084a87-35af-443b-a499-d129c8d6dadd"
      },
      "source": [
        "pip install pygame"
      ],
      "execution_count": 41,
      "outputs": [
        {
          "output_type": "stream",
          "name": "stdout",
          "text": [
            "Requirement already satisfied: pygame in /usr/local/lib/python3.7/dist-packages (2.1.0)\n"
          ]
        }
      ]
    },
    {
      "cell_type": "code",
      "metadata": {
        "colab": {
          "base_uri": "https://localhost:8080/",
          "height": 245
        },
        "id": "vaqe4uDUAcJh",
        "outputId": "b35e9cad-248c-4c44-9e19-add6f68ea38b"
      },
      "source": [
        "import pygame\n",
        "pygame.init()\n",
        "pygame.mixer.music.load('ex21.mp3')\n",
        "pygame.mixer.music.play()\n",
        "pygame.event.wait()"
      ],
      "execution_count": 43,
      "outputs": [
        {
          "output_type": "error",
          "ename": "error",
          "evalue": "ignored",
          "traceback": [
            "\u001b[0;31m---------------------------------------------------------------------------\u001b[0m",
            "\u001b[0;31merror\u001b[0m                                     Traceback (most recent call last)",
            "\u001b[0;32m<ipython-input-43-d123ebbac4b6>\u001b[0m in \u001b[0;36m<module>\u001b[0;34m()\u001b[0m\n\u001b[1;32m      1\u001b[0m \u001b[0;32mimport\u001b[0m \u001b[0mpygame\u001b[0m\u001b[0;34m\u001b[0m\u001b[0;34m\u001b[0m\u001b[0m\n\u001b[1;32m      2\u001b[0m \u001b[0mpygame\u001b[0m\u001b[0;34m.\u001b[0m\u001b[0minit\u001b[0m\u001b[0;34m(\u001b[0m\u001b[0;34m)\u001b[0m\u001b[0;34m\u001b[0m\u001b[0;34m\u001b[0m\u001b[0m\n\u001b[0;32m----> 3\u001b[0;31m \u001b[0mpygame\u001b[0m\u001b[0;34m.\u001b[0m\u001b[0mmixer\u001b[0m\u001b[0;34m.\u001b[0m\u001b[0mmusic\u001b[0m\u001b[0;34m.\u001b[0m\u001b[0mload\u001b[0m\u001b[0;34m(\u001b[0m\u001b[0;34m'ex21.mp3'\u001b[0m\u001b[0;34m)\u001b[0m\u001b[0;34m\u001b[0m\u001b[0;34m\u001b[0m\u001b[0m\n\u001b[0m\u001b[1;32m      4\u001b[0m \u001b[0mpygame\u001b[0m\u001b[0;34m.\u001b[0m\u001b[0mmixer\u001b[0m\u001b[0;34m.\u001b[0m\u001b[0mmusic\u001b[0m\u001b[0;34m.\u001b[0m\u001b[0mplay\u001b[0m\u001b[0;34m(\u001b[0m\u001b[0;34m)\u001b[0m\u001b[0;34m\u001b[0m\u001b[0;34m\u001b[0m\u001b[0m\n\u001b[1;32m      5\u001b[0m \u001b[0mpygame\u001b[0m\u001b[0;34m.\u001b[0m\u001b[0mevent\u001b[0m\u001b[0;34m.\u001b[0m\u001b[0mwait\u001b[0m\u001b[0;34m(\u001b[0m\u001b[0;34m)\u001b[0m\u001b[0;34m\u001b[0m\u001b[0;34m\u001b[0m\u001b[0m\n",
            "\u001b[0;31merror\u001b[0m: mixer not initialized"
          ]
        }
      ]
    },
    {
      "cell_type": "code",
      "metadata": {
        "id": "C0iV8VOcDQ3D"
      },
      "source": [
        "import pygame\n",
        "pygame.init()\n",
        "pygame.mixer.music.load('ex21.mp3')\n",
        "pygame.mixer.music.play()\n",
        "\n",
        "clock = pygame.time.Clock()\n",
        "while pygame.mixer.music.get_busy():\n",
        "    clock.tick(60)\n",
        "    pygame.event.poll()"
      ],
      "execution_count": null,
      "outputs": []
    },
    {
      "cell_type": "markdown",
      "metadata": {
        "id": "KzyU7FqtD79f"
      },
      "source": [
        "## **#`09 - Manipulando Texto`**\n",
        "\n",
        "---\n",
        "https://www.youtube.com/watch?v=a7DH88vk2Sk\n",
        "\n",
        "---\n",
        "## `Cadeia de caracteres manipulação de cadeira de texto é muito importante.Cadeia de caracteres o outro nome muito utilizado é string ou simplesmente cadeia do texto para o Python toda a cadeia de texto está entre aspas simples ou as duplas eles também a possibilidade de utilizar três das duplas a gente veio um pouco mais pra frente no Python coloca esses dados.Vai colocar essa frase na memória do computador só que ele não vai inteira ele vai fazer é criar mini espaços dentro da memória do computador e dentro de cada espaço de se eles vão colocar cada uma das letras recebe aqui que dentre curso e em espaço e o espaço ocupa.`\n",
        "\n",
        "## **`Operações strings`**\n",
        "\n",
        ">### `Fatiamento`\n",
        ">`A forma mais simples de fatiamento é conseguir pegar uma letra, vai pegar uma letra eu tenho que dizer o nome da variável.\n",
        "Entre colchetes 9 o símbolo de colchetes ele o identificador de uma estrutura de dados do Python tem chamada lista`\n",
        "\n",
        "---\n",
        "### `Último valor não entrou na contagem então 9 13 significa vai de 9 até o 13 incluindo nove e removendo o treze.`\n",
        "\n",
        "###`frase[9:21:2] começa no 9 até 21, pulando de 2 e 2.`\n",
        "###`frase[:5] começa no 0 e vai 5.`\n",
        "###`frase[15:] indico o início e não sabe o final. E vai até o final.`\n",
        "###`frase[9::3] vai começar no 9, vai até final, pulando de 3 e 3.`\n"
      ]
    },
    {
      "cell_type": "markdown",
      "metadata": {
        "id": "MRqhjhE8Gzzi"
      },
      "source": [
        "## **`Análise`**\n",
        "## **Função:** \n",
        "\n",
        "## > **len(frase)** `# comprimento`\n",
        "\n",
        "## > **frase.count(‘o’)** `# conta quanto ‘o’ existem no fatiamento o último valor é sempre ignorado.`\n",
        "## > frase.find(‘deo’) `# indicar onde começa o que ele está procurando.` \n",
        "`Se você coloca dentro do find uma string de simplesmente não existe ele retorna o valor - 1 quando você receber o valor - não existe posição -1 ele começa na posição 0 `\n",
        "`‘Curso’ in frase # Ele vai escrever True ou False `"
      ]
    },
    {
      "cell_type": "markdown",
      "metadata": {
        "id": "rwZnWnafQK_1"
      },
      "source": [
        "## **Transformação**\n",
        "\n",
        "## `Via de regra uma lista de strings ela é imutável - a gente não consegue mexer nela.`\n",
        "##`Característica de imutabilidade, mas eu consigo mudar ela através dos métodos. Não consegue mexer direto nos elementos.`\n",
        "## `Consigo através de métodos o primeiro a utilizar è:`\n",
        "\n",
        "## > **frase.replace(‘Python’,’Android’)**` # troca ou reposicionar- substituir Python for Android`\n",
        "## > **frase.upper()**` #método --Para cima- ele troca minúscula por maiúsculas.`\n",
        "## > **frase.lower()**`#método --Para baixo- ele troca maiúsculas por minúscula.`\n",
        "## > **frase.capitalize()**`#método – ele vai jogar todos os caracteres para minúsculos inclusive o que estavam em maiúsculas. Só a primeira letra vai ficar maiúsculas.`\n",
        "## > **frase.title()**`#método – Ele faz uma análise um pouco mais profunda. Ele vai analisar quantas palavras têm essa string`\n",
        "\n",
        "## `Basicamente pela posição dos espaços estão onde tiver espaço e já faz uma quebra de palavra ele vai fazer um` **capitalize** `palavra por palavra.`"
      ]
    },
    {
      "cell_type": "markdown",
      "metadata": {
        "id": "WVV7Y9ZVRZH-"
      },
      "source": [
        "## `Coloco uma string propositalmente com espaços, com alguns espaços vazios no início e no fim.Isso acontece muito o seguinte não sei se você já viu o acontecido pessoas mais leigas pessoas que estão lá ela dá um site seu pai vai cadastrar no site da medida que seu nome ele não clica na caixa de texto começa a digitar ele clica na caixa de texto para ver se está funcionando já perde espaço algumas vezes começa a digitar isso é tão comum na área de tecnologia que as linguagens de programação tem funcionalidades internas para remover esses espaços excedentes no início no final da cadeia.`"
      ]
    },
    {
      "cell_type": "markdown",
      "metadata": {
        "id": "9O_f9LkTRlss"
      },
      "source": [
        "## **frase.strip()**`#método – Remover todos espaços inúteis no começo e no fim.`\n",
        "\n",
        "##**frase.rstrip()**`#método –()#método – Remover todos espaços inúteis da direita.`\n",
        "\n",
        "##**frase.lstrip(**)`#método –()#método – Remover todos espaços inúteis da esquerda.`"
      ]
    },
    {
      "cell_type": "markdown",
      "metadata": {
        "id": "UEHGCcDNR595"
      },
      "source": [
        "## **Divisão**\n",
        "## **`frase.split()`** `# por padrão o split é feito em seus espaços vai ocorrer uma divisão dentro das suas strings considerando os espaços são basicamente vai pegar onde estiver espaço e vai criar uma divisão.`\n",
        "## `Cada palavra recebe indexação nova, cada uma dessas palavras é colocada dentro de uma outra lista vai gerar um split ele gera tecnicamente uma lista com todas as palavras de uma cadeia de caracteres onde vai separar esses pedaços. `\n",
        "## **‘-‘.frase.join(frase)**`# ele vai juntar string um com outro.`\n",
        "\n",
        "\n"
      ]
    },
    {
      "cell_type": "code",
      "metadata": {
        "colab": {
          "base_uri": "https://localhost:8080/"
        },
        "id": "Yggfd-rqSjNO",
        "outputId": "c092b40a-520e-4966-86fd-8125b8689b21"
      },
      "source": [
        "#Prática\n",
        "frase = 'Curso em Vídeo Python'\n",
        "print(frase[3:13])\n",
        "\n",
        "#Quando quiser imprimir frases muito grandes.\n",
        "#Print (“””  ”””)"
      ],
      "execution_count": 44,
      "outputs": [
        {
          "output_type": "stream",
          "name": "stdout",
          "text": [
            "so em Víde\n"
          ]
        }
      ]
    },
    {
      "cell_type": "markdown",
      "metadata": {
        "id": "vI8KqvJtSy7J"
      },
      "source": [
        "### **Exercício Python #022 - Analisador de Textos**\n",
        "---\n",
        "https://www.youtube.com/watch?v=EQQt-6QqXOs\n",
        "\n",
        "---\n",
        "## *`Crie um programa que lê o nome completo de uma pessoa e mostre:`\n",
        "## `O nome com todas as letras maiúsculas.`\n",
        "## `Quantas letras ao todo (sem considerar espaços).`\n",
        "## `Quantas letras tem o primeiro nome.`"
      ]
    },
    {
      "cell_type": "code",
      "metadata": {
        "colab": {
          "base_uri": "https://localhost:8080/"
        },
        "id": "dk85gmuaTp24",
        "outputId": "46c82a0c-ea7b-401c-fa54-4a0a679f6ec1"
      },
      "source": [
        "nome = str(input('Digite seu nome completo: ')).strip()\n",
        "print('Analisando seu nome...')\n",
        "print('Seu nome com todas as letras maiúsculas é {}' .format(nome.upper()))\n",
        "print('Seu nome com todas as letras minúsculo é {}' .format(nome.lower()))\n",
        "print('Seu nome ao todo {} de letra'.format(len(nome) - nome.count(' ')))\n",
        "print('Seu nome ao todo {} de letra' .format(nome.find(' ')))\n"
      ],
      "execution_count": 45,
      "outputs": [
        {
          "output_type": "stream",
          "name": "stdout",
          "text": [
            "Digite seu nome completo: Aelso\n",
            "Analisando seu nome...\n",
            "Seu nome com todas as letras maiúsculas é AELSO\n",
            "Seu nome com todas as letras minúsculo é aelso\n",
            "Seu nome ao todo 5 de letra\n",
            "Seu nome ao todo -1 de letra\n"
          ]
        }
      ]
    },
    {
      "cell_type": "code",
      "metadata": {
        "colab": {
          "base_uri": "https://localhost:8080/",
          "height": 135
        },
        "id": "44kQ33ydTwBN",
        "outputId": "1d4cdc96-25de-40be-bb87-84f4dd3a561a"
      },
      "source": [
        "#tentativa 1\n",
        "nome = input ('Digite seu nome e sobrenome:')\n",
        "nome_quant_NoEm = len(nome) - nome.count(\" \")\n",
        "print( 'O nome com todas as letras maiúsculas é {} e quantidades de letra é{} '.format(nome.upper(),nome_quant_NoEm))\n",
        "prinome = nome.split()\n",
        "print('O primeiro Nome é {} e Quantidade é{}' .format(prinome[0])"
      ],
      "execution_count": 46,
      "outputs": [
        {
          "output_type": "error",
          "ename": "SyntaxError",
          "evalue": "ignored",
          "traceback": [
            "\u001b[0;36m  File \u001b[0;32m\"<ipython-input-46-300ee914e2e1>\"\u001b[0;36m, line \u001b[0;32m6\u001b[0m\n\u001b[0;31m    print('O primeiro Nome é {} e Quantidade é{}' .format(prinome[0])\u001b[0m\n\u001b[0m                                                                     ^\u001b[0m\n\u001b[0;31mSyntaxError\u001b[0m\u001b[0;31m:\u001b[0m unexpected EOF while parsing\n"
          ]
        }
      ]
    },
    {
      "cell_type": "markdown",
      "metadata": {
        "id": "QK915MTkSz1h"
      },
      "source": [
        "### **Exercício Python #023 - Separando dígitos de um número**\n",
        "---\n",
        "https://www.youtube.com/watch?v=wD2aerLMBWA\n",
        "\n",
        "---\n",
        "## *`Faça um programa que leia um número de 0 a 9999 e mostre na tela cada um dos dígitos separados.`*\n",
        "## *`EX: digite um número:1834`*\n",
        "## *`Unidade:4`*\n",
        "## *`Dezena:3`*\n",
        "## *`Centena:8`*\n",
        "## *`Milhar:1`* "
      ]
    },
    {
      "cell_type": "code",
      "metadata": {
        "colab": {
          "base_uri": "https://localhost:8080/"
        },
        "id": "xg5bdzhsUMOR",
        "outputId": "b934503e-a4fc-42d8-a36c-a91dc2bce037"
      },
      "source": [
        "num = int(input('Informe um número: '))\n",
        "u= num // 1 % 10\n",
        "d= num // 10 % 10\n",
        "c= num // 100 % 10\n",
        "m= num // 1000 % 10\n",
        "print('Analisando o número {}'.format(num))\n",
        "print('Unidade:{}'.format(u))\n",
        "print('Dezena: {}'.format(d))\n",
        "print('Centena: {}'.format(c))\n",
        "print('Milhar: {}'.format(m))"
      ],
      "execution_count": 47,
      "outputs": [
        {
          "output_type": "stream",
          "name": "stdout",
          "text": [
            "Informe um número: 1845\n",
            "Analisando o número 1845\n",
            "Unidade:5\n",
            "Dezena: 4\n",
            "Centena: 8\n",
            "Milhar: 1\n"
          ]
        }
      ]
    },
    {
      "cell_type": "markdown",
      "metadata": {
        "id": "nnBiywnBSz5z"
      },
      "source": [
        "### **Exercício Python #024 - Verificando as primeiras letras de um texto**\n",
        "---\n",
        "https://www.youtube.com/watch?v=QroT8cZMRnc\n",
        "\n",
        "---\n",
        "## *`Crie um programa que leia o nome de uma cidade e diga se ela começa ou não uma palavra “Santo\"`* "
      ]
    },
    {
      "cell_type": "code",
      "metadata": {
        "colab": {
          "base_uri": "https://localhost:8080/"
        },
        "id": "GY7SD3WgUip1",
        "outputId": "47847a81-5182-417e-ba57-492dcb86f0ae"
      },
      "source": [
        "cid = str(input('Em que cidade você nasceu:')).strip()\n",
        "print(cid[:5].upper() == 'SANTO')"
      ],
      "execution_count": 48,
      "outputs": [
        {
          "output_type": "stream",
          "name": "stdout",
          "text": [
            "Em que cidade você nasceu:braga\n",
            "False\n"
          ]
        }
      ]
    },
    {
      "cell_type": "markdown",
      "metadata": {
        "id": "kaIrsLzgSz99"
      },
      "source": [
        "### **Exercício Python #025 - Procurando uma string dentro de outra**\n",
        "---\n",
        "https://www.youtube.com/watch?v=WHWGz2Dy1ZU\n",
        "\n",
        "---\n",
        "## *`Crie um programa que leia o nome de uma pessoa e diga se ela tem “Silva” no nome. `* "
      ]
    },
    {
      "cell_type": "code",
      "metadata": {
        "colab": {
          "base_uri": "https://localhost:8080/"
        },
        "id": "xJ84AsZYUxQe",
        "outputId": "c9d30dfb-87fb-4f7f-c539-8eef16b73675"
      },
      "source": [
        "nome = str(input('Qual é seu nome completo?')).strip()\n",
        "print('Seu nome tem Silva? {}'.format('SILVA' in nome.upper()))"
      ],
      "execution_count": 49,
      "outputs": [
        {
          "output_type": "stream",
          "name": "stdout",
          "text": [
            "Qual é seu nome completo?aelso ro[\n",
            "Seu nome tem Silva? False\n"
          ]
        }
      ]
    },
    {
      "cell_type": "markdown",
      "metadata": {
        "id": "TSSE2pWfS0A_"
      },
      "source": [
        "### **Exercício Python #026 - Primeira e última ocorrência de uma string**\n",
        "---\n",
        "https://www.youtube.com/watch?v=23UOVEetNPY\n",
        "\n",
        "---\n",
        "## *`Faça programa que leia uma frase pelo teclado e mostre:`* \n",
        "## *`Quantas vezes aparece a letra \"A\"`* \n",
        "## *`Em que posição ela aparece a primeira vez.`* \n",
        "## *`Em que posição ela aparece a última vez.`* "
      ]
    },
    {
      "cell_type": "code",
      "metadata": {
        "colab": {
          "base_uri": "https://localhost:8080/"
        },
        "id": "5bAgfsG6VChW",
        "outputId": "f6aad346-bd16-4ac2-ee0c-a653158a7c79"
      },
      "source": [
        "frase = str(input('Digite uma frase: ')).upper().strip()\n",
        "print('A letra A aparece {} vezes na frase'.format(frase.count('A')))\n",
        "print('A primeira letra A aparece na posição: {}'.format(frase.find('A')+1))\n",
        "print('A última a aparecer na posição: {}'.format(frase.rfind('A')+1))"
      ],
      "execution_count": 50,
      "outputs": [
        {
          "output_type": "stream",
          "name": "stdout",
          "text": [
            "Digite uma frase: ael\n",
            "A letra A aparece 1 vezes na frase\n",
            "A primeira letra A aparece na posição: 1\n",
            "A última a aparecer na posição: 1\n"
          ]
        }
      ]
    },
    {
      "cell_type": "markdown",
      "metadata": {
        "id": "1mvh6OSuS0D0"
      },
      "source": [
        "### **Exercício Python #027 - Primeiro e último nome de uma pessoa**\n",
        "---\n",
        "https://www.youtube.com/watch?v=SifYYsXhLM8\n",
        "\n",
        "---\n",
        "## *`Faça um programa que leia o nome completo de uma pessoa, mostrando em seguida o primeiro e último nome separadamente.`* \n",
        "## *`EX: Ana Maria De Souza`* \n",
        "## *`Primeiro = Ana`* \n",
        "## *`Último = Souza`* \n"
      ]
    },
    {
      "cell_type": "code",
      "metadata": {
        "colab": {
          "base_uri": "https://localhost:8080/"
        },
        "id": "BCXa7gGeVYoP",
        "outputId": "ec5507f2-591a-47f4-831c-ee6cd1479c1b"
      },
      "source": [
        "n = str(input('Digite seu nome completo: ')).strip()\n",
        "nome = n.split()\n",
        "print('Muito prazer em te conhecer!')\n",
        "print('Seu primeiro nome é {}'.format(nome[0]))\n",
        "print( 'Seu último nome é {}'.format(nome[len(nome)-1]))"
      ],
      "execution_count": 51,
      "outputs": [
        {
          "output_type": "stream",
          "name": "stdout",
          "text": [
            "Digite seu nome completo: Aelso\n",
            "Muito prazer em te conhecer!\n",
            "Seu primeiro nome é Aelso\n",
            "Seu último nome é Aelso\n"
          ]
        }
      ]
    }
  ]
}