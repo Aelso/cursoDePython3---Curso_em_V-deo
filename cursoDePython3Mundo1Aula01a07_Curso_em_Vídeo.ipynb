{
  "nbformat": 4,
  "nbformat_minor": 0,
  "metadata": {
    "colab": {
      "name": "cursoDePython3Mundo1Aula01a07- Curso em Vídeo.ipynb",
      "provenance": []
    },
    "kernelspec": {
      "name": "python3",
      "display_name": "Python 3"
    },
    "language_info": {
      "name": "python"
    }
  },
  "cells": [
    {
      "cell_type": "markdown",
      "metadata": {
        "id": "WtCdjSiaAWsq"
      },
      "source": [
        "\n",
        "### **Aluno: Aelso Rocha Brito**\n",
        "# **notebookComAnotaçõesDaVideoaula**\n",
        "---\n",
        "\n",
        "## `Créditos`\n",
        "\n",
        "---\n",
        "\n",
        ">CursoEmVideo\n",
        "https://www.cursoemvideo.com/\n",
        "---\n",
        "##`Agradecimento ao professor Gustavo Guanabara`"
      ]
    },
    {
      "cell_type": "markdown",
      "metadata": {
        "id": "dA8zfltH6FG9"
      },
      "source": [
        "###**#01 - Seja um Programador**\n",
        "https://www.youtube.com/watch?v=S9uPNppGsGo&list=PLvE-ZAFRgX8hnECDn1v9HNTI71veL3oW0"
      ]
    },
    {
      "cell_type": "markdown",
      "metadata": {
        "id": "6prEZ46F6VbE"
      },
      "source": [
        "###**#02 - Para que serve o Python?**\n",
        "https://www.youtube.com/watch?v=Mp0vhMDI7fA&list=PLvE-ZAFRgX8hnECDn1v9HNTI71veL3oW0&index=3\n",
        "\n",
        "\n",
        "*   1982 na capital da Holanda em Amsterdam.\n",
        "*Onde fica o CDI (centro de matemática e ciência da computação)\n",
        "*No Centro tecnológico foram criadas várias linguagens como por exemplo a linguagem Algol e a linguagem ABC.\n",
        "*Batizar o projeto homenageando o seu programa de humor favorito, o monty python 's flying circus.\n",
        "*Lançando o projeto do CP4E.\n",
        "*PSS (python Software Foundation) é patrocinada por empresas conhecidas entre elas a Microsoft, o Google e até mesmo a brasileira Globo.\n",
        "*Vários projetos de computação e internet das coisas começaram a utilizar então também com linguagem padrão."
      ]
    },
    {
      "cell_type": "markdown",
      "metadata": {
        "id": "IJJn_mIK87Rp"
      },
      "source": [
        "###**São as principais características da Linguagem Python**\n",
        "1.   Linguagem de propósito em geral.\n",
        "2.   Fácil e intuitiva.\n",
        "3.Multiplataforma.\n",
        "4.Batteries included.\n",
        "5.Linguagem totalmente livre.\n",
        "6.Organizada.\n",
        "7.Orientada a objetos.\n",
        "8.Muitas bibliotecas. "
      ]
    },
    {
      "cell_type": "markdown",
      "metadata": {
        "id": "mPO_FFbe9fWR"
      },
      "source": [
        "###**Linguagem com uma filosofia própria**\n",
        "1.   Bonito é melhor que feio.\n",
        "2.Simples é melhor que complexo.\n",
        "3.Complexo é melhor que complicado.\n",
        "4.Legibilidade contas.\n",
        "5.Erros nunca podem passar silenciosamente.\n",
        "6.Agora é melhor do que nunca.\n",
        "\n",
        "\n",
        "\n"
      ]
    },
    {
      "cell_type": "markdown",
      "metadata": {
        "id": "C0OLRWqB-va1"
      },
      "source": [
        "###***A linguagem e onde eu aplico:***\n",
        "O **Python** pode ser usado basicamente em todos os lugares, ela tem algumas **especificidades da linguagem que a tornam muito poderosa**. O número suporta um número muito grande.\n",
        "####Consegue fazer cálculos muito grandes e isso ajuda muito na evolução de sistemas.\n",
        "####**Área** que precisa **muito** da força no cálculo e **principalmente** computação 3D.\n",
        "\n"
      ]
    },
    {
      "cell_type": "markdown",
      "metadata": {
        "id": "ISSGeKn2_j5H"
      },
      "source": [
        "###**#03 - Instalando o Python 3 e o IDLE**\n",
        "https://www.youtube.com/watch?v=VuKvR1J2LQE&list=PLvE-ZAFRgX8hnECDn1v9HNTI71veL3oW0&index=4"
      ]
    },
    {
      "cell_type": "markdown",
      "metadata": {
        "id": "_EtP_JGy_s8U"
      },
      "source": [
        "###**#04 - Primeiros comandos em Python 3**\n",
        "https://www.youtube.com/watch?v=31llNGKWDdo&list=PLvE-ZAFRgX8hnECDn1v9HNTI71veL3oW0&index=5"
      ]
    },
    {
      "cell_type": "code",
      "metadata": {
        "colab": {
          "base_uri": "https://localhost:8080/"
        },
        "id": "SeVaO9n9_4Y3",
        "outputId": "ea552934-ed29-4150-b6a3-0110cdfc48be"
      },
      "source": [
        "print('Olá, Mundo!')\n",
        "print(7+4)\n",
        "print('7'+'4')\n"
      ],
      "execution_count": null,
      "outputs": [
        {
          "output_type": "stream",
          "name": "stdout",
          "text": [
            "Olá, Mundo!\n",
            "11\n",
            "74\n"
          ]
        }
      ]
    },
    {
      "cell_type": "code",
      "metadata": {
        "colab": {
          "base_uri": "https://localhost:8080/"
        },
        "id": "-gPIveB0AvN2",
        "outputId": "7dbf2232-5aa8-469a-b80c-2e0a5a5e1420"
      },
      "source": [
        "print('\\033[4;36mOlá\\033[m, \\033[7;35mMundo!\\033[m')\n",
        "print('\\033[34m7\\033[m\\033[32m4\\033[m')\n"
      ],
      "execution_count": null,
      "outputs": [
        {
          "output_type": "stream",
          "name": "stdout",
          "text": [
            "\u001b[4;36mOlá\u001b[m, \u001b[7;35mMundo!\u001b[m\n",
            "\u001b[34m7\u001b[m\u001b[32m4\u001b[m\n"
          ]
        }
      ]
    },
    {
      "cell_type": "markdown",
      "metadata": {
        "id": "Anick41p_4BL"
      },
      "source": [
        "###**Variável**\n",
        "\n",
        "\n"
      ]
    },
    {
      "cell_type": "code",
      "metadata": {
        "id": "-aQ3lhryBsTd"
      },
      "source": [
        "nome='Aelso'\n",
        "idade=35\n",
        "peso=70.80"
      ],
      "execution_count": null,
      "outputs": []
    },
    {
      "cell_type": "code",
      "metadata": {
        "colab": {
          "base_uri": "https://localhost:8080/"
        },
        "id": "Wq5kMsF8BxsF",
        "outputId": "d71b6b9e-3e53-4533-8637-3975c49b3816"
      },
      "source": [
        "print(nome,idade, peso)"
      ],
      "execution_count": null,
      "outputs": [
        {
          "output_type": "stream",
          "name": "stdout",
          "text": [
            "Aelso 35 70.8\n"
          ]
        }
      ]
    },
    {
      "cell_type": "code",
      "metadata": {
        "colab": {
          "base_uri": "https://localhost:8080/"
        },
        "id": "6u9B4bwoB6ZS",
        "outputId": "954f3dfb-220d-41a9-9b88-d9924d06cf72"
      },
      "source": [
        "nome=input('Qual é seu nome: ')\n",
        "idade=input('Qual é sua idade: ')\n",
        "peso=input('qual é seu peso: ')\n"
      ],
      "execution_count": null,
      "outputs": [
        {
          "name": "stdout",
          "output_type": "stream",
          "text": [
            "Qual é seu nome: Aelso\n",
            "Qual é sua idade: 37\n",
            "qual é seu peso: 70\n"
          ]
        }
      ]
    },
    {
      "cell_type": "markdown",
      "metadata": {
        "id": "MQ9uoyqf_26I"
      },
      "source": [
        "> # **`Desafio 01`**\n",
        "\n",
        "---\n",
        "### **Crie script python que leia o nome de uma pessoa e mostre uma mensagem de boas vindas de acordo com o valor digitado.**\n",
        "\n",
        "\n",
        "\n"
      ]
    },
    {
      "cell_type": "code",
      "metadata": {
        "colab": {
          "base_uri": "https://localhost:8080/"
        },
        "id": "mU8r9ycbC2qo",
        "outputId": "c5e952e9-eb56-464d-d9bd-389cd3fe2d82"
      },
      "source": [
        "nome = input('Qual é seu nome? ')\n",
        "print('Olá!', nome,',Prazer em te conhecer!')"
      ],
      "execution_count": null,
      "outputs": [
        {
          "output_type": "stream",
          "name": "stdout",
          "text": [
            "Qual é seu nome? Aelso\n",
            "Olá! Aelso ,Prazer em te conhecer!\n"
          ]
        }
      ]
    },
    {
      "cell_type": "markdown",
      "metadata": {
        "id": "z8nbSGXSDC6W"
      },
      "source": [
        "Versão colorida"
      ]
    },
    {
      "cell_type": "code",
      "metadata": {
        "colab": {
          "base_uri": "https://localhost:8080/"
        },
        "id": "IkNy6JcnDFU1",
        "outputId": "66fac18b-cbf5-4987-a797-e4da0e0f5835"
      },
      "source": [
        "nome = input('\\033[4;33mQual é seu nome:\\033[m?')\n",
        "\n",
        "print('\\033[1;35;41mOlá\\033[m,\\033[4;32;43m{}\\033[m\\033[4;33;40mPrazer em te conhecer!\\033[m'.format(nome))"
      ],
      "execution_count": null,
      "outputs": [
        {
          "output_type": "stream",
          "name": "stdout",
          "text": [
            "\u001b[4;33mQual é seu nome:\u001b[m?Aelso\n",
            "\u001b[1;35;41mOlá\u001b[m,\u001b[4;32;43mAelso\u001b[m\u001b[4;33;40mPrazer em te conhecer!\u001b[m\n"
          ]
        }
      ]
    },
    {
      "cell_type": "markdown",
      "metadata": {
        "id": "qAYOGBLqDRSI"
      },
      "source": [
        "# **`Desafio 02`** \n",
        "\n",
        "---\n",
        "### **Crie um script python que leia o dia, o mês e o ano de nascimento de uma pessoa e mostre uma mensagem com a data formatada.**"
      ]
    },
    {
      "cell_type": "code",
      "metadata": {
        "colab": {
          "base_uri": "https://localhost:8080/"
        },
        "id": "wiLMwN4PDy_O",
        "outputId": "c7e6e02d-11a5-4809-d6a1-4ee966ce2006"
      },
      "source": [
        "dia=int(input('Qual o dia que você nasceu?'))\n",
        "mes=int(input('Qual o mês ?'))\n",
        "ano=int(input('Qual o ano que você nasceu?'))\n",
        "\n",
        "print('Você nasceu no dia',dia,'de',mes,'de',ano)"
      ],
      "execution_count": null,
      "outputs": [
        {
          "output_type": "stream",
          "name": "stdout",
          "text": [
            "Qual o dia que você nasceu?27\n",
            "Qual o mês ?1\n",
            "Qual o ano que você nasceu?1984\n",
            "Você nasceu no dia 27 de 1 de 1984\n"
          ]
        }
      ]
    },
    {
      "cell_type": "markdown",
      "metadata": {
        "id": "rTXJ0l9QDc1X"
      },
      "source": [
        "# **`Desafio 03`**\n",
        "\n",
        "---\n",
        "## **Crie um script python que leia dois números e tem que mostrar a soma entre eles.**\n"
      ]
    },
    {
      "cell_type": "code",
      "metadata": {
        "colab": {
          "base_uri": "https://localhost:8080/"
        },
        "id": "p2TZ5YTTFu9a",
        "outputId": "246a195d-adf0-4652-fb03-9f97634ce3c0"
      },
      "source": [
        "num1=float(input('Qual primeiro número? '))\n",
        "num2=float(input('Qual segundo número?  '))\n",
        "soma= num1+num2\n",
        "print('A soma de', num1, '+', num2,'igual', soma)"
      ],
      "execution_count": 2,
      "outputs": [
        {
          "output_type": "stream",
          "name": "stdout",
          "text": [
            "Qual primeiro número? 47\n",
            "Qual segundo número?  15\n",
            "A soma de 47.0 + 15.0 igual 62.0\n"
          ]
        }
      ]
    },
    {
      "cell_type": "markdown",
      "metadata": {
        "id": "eVFJzjU3F4FT"
      },
      "source": [
        "# **#05 - Instalando o PyCharm e o QPython3**\n",
        "Exercício Python\n",
        "###https://www.youtube.com/watch?v=ElRd0cbXIv4&list=PLvE-ZAFRgX8hnECDn1v9HNTI71veL3oW0&index=6"
      ]
    },
    {
      "cell_type": "markdown",
      "metadata": {
        "id": "dxKpjLsZ4ufU"
      },
      "source": [
        "### **Exercício Python #001 - Deixando tudo pronto**\n",
        "https://www.youtube.com/watch?v=nIHq1MtJaKs&list=PLvE-ZAFRgX8hnECDn1v9HNTI71veL3oW0&index=7\n",
        "\n",
        "---\n",
        "### **Crie um programa que escreva 'Olá, Mundo!' na tela.**"
      ]
    },
    {
      "cell_type": "code",
      "metadata": {
        "colab": {
          "base_uri": "https://localhost:8080/"
        },
        "id": "8oLzbXs_4x1Q",
        "outputId": "7926100a-7734-49ee-95a0-b9ad920617ac"
      },
      "source": [
        "print('Olá, Mundo!')"
      ],
      "execution_count": null,
      "outputs": [
        {
          "output_type": "stream",
          "name": "stdout",
          "text": [
            "Olá, Mundo!\n"
          ]
        }
      ]
    },
    {
      "cell_type": "markdown",
      "metadata": {
        "id": "Mmg6J66e5O2j"
      },
      "source": [
        "### **Exercício Python #002 - Respondendo ao Usuário**\n",
        "\n",
        "---\n",
        "https://www.youtube.com/watch?v=FNqdV5Zb_5Q&list=PLvE-ZAFRgX8hnECDn1v9HNTI71veL3oW0&index=8\n",
        "\n",
        "---\n",
        "**Faça um programa que leia o nome de uma pessoa e mostre uma mensagem de boas-vindas.**\n",
        "\n",
        "\n"
      ]
    },
    {
      "cell_type": "code",
      "metadata": {
        "colab": {
          "base_uri": "https://localhost:8080/"
        },
        "id": "cI0uJ2nL5YFT",
        "outputId": "d096de5e-52ba-4be0-adb3-71391fa3ca23"
      },
      "source": [
        "nome = input('Digite seu nome:')\n",
        "print(f'Prazer em tem de conhecer {nome}.')"
      ],
      "execution_count": null,
      "outputs": [
        {
          "output_type": "stream",
          "name": "stdout",
          "text": [
            "Digite seu nome:Aelso\n",
            "Prazer em tem de conhecer Aelso.\n"
          ]
        }
      ]
    },
    {
      "cell_type": "markdown",
      "metadata": {
        "id": "banOzm6q502t"
      },
      "source": [
        "## **#06 - Tipos Primitivos e Saída de Dados**\n",
        "\n",
        "---\n",
        "https://www.youtube.com/watch?v=hdDHg1p3YVc&t=1415s\n",
        "\n",
        "---\n",
        "A linguagem de programação trabalha basicamente com quatro tipos primitivos.\n",
        "##**Os quatro fundamentais:**\n",
        "###>int (7 ,-4, 0 ,9875)\n",
        "###>float (4.5, 0.076, -15.223, 7.0)\n",
        "###>bool (True, False)\n",
        "###>str (‘Olá’ , ‘7.5 ‘)"
      ]
    },
    {
      "cell_type": "markdown",
      "metadata": {
        "id": "eyLIeEO36aYl"
      },
      "source": [
        "### **Exercício Python #003 - Somando dois números**\n",
        "\n",
        "---\n",
        "https://www.youtube.com/watch?v=PB254Cfjlyk\n",
        "\n",
        "---\n",
        "\n",
        "\n"
      ]
    },
    {
      "cell_type": "code",
      "metadata": {
        "colab": {
          "base_uri": "https://localhost:8080/"
        },
        "id": "cyM5_7H_Dh2E",
        "outputId": "ef52dbe7-a2cc-4dd4-b429-9243379f7c65"
      },
      "source": [
        "n1 = float(input('Digite um número: '))\n",
        "n2 = float(input('Digite mais um número: '))\n",
        "s = n1 + n2\n",
        "print('A soma vale dois valores é',s)"
      ],
      "execution_count": 5,
      "outputs": [
        {
          "output_type": "stream",
          "name": "stdout",
          "text": [
            "Digite um número: 7895\n",
            "Digite mais um número: 587\n",
            "A soma vale dois valores é  8482.0\n"
          ]
        }
      ]
    },
    {
      "cell_type": "code",
      "metadata": {
        "colab": {
          "base_uri": "https://localhost:8080/"
        },
        "id": "xr0kUC-I7LPK",
        "outputId": "4e33ac9f-5270-43bc-8c3d-704b0aa501c0"
      },
      "source": [
        "n1 = input('Digite um número? ')\n",
        "print(type(n1))# mostra o formato str"
      ],
      "execution_count": 6,
      "outputs": [
        {
          "output_type": "stream",
          "name": "stdout",
          "text": [
            "Digite um número? 879\n",
            "<class 'str'>\n"
          ]
        }
      ]
    },
    {
      "cell_type": "code",
      "metadata": {
        "colab": {
          "base_uri": "https://localhost:8080/"
        },
        "id": "iklo9HvF7PB9",
        "outputId": "dccba50b-027a-4784-835b-a9a66f898411"
      },
      "source": [
        "n1 = int(input('Digite um número? '))\n",
        "n2 = int(input('Digite mais um número? '))\n",
        "s = n1 + n2\n",
        "print('A soma de {} mais {} é igual {}'.format(n1,n2,s))"
      ],
      "execution_count": 9,
      "outputs": [
        {
          "output_type": "stream",
          "name": "stdout",
          "text": [
            "Digite um número? 8\n",
            "Digite mais um número? 47\n",
            "A soma de 8 mais 47 é igual 55\n"
          ]
        }
      ]
    },
    {
      "cell_type": "markdown",
      "metadata": {
        "id": "UB8y7jHg7e1I"
      },
      "source": [
        "## **Anotações**\n",
        "---\n",
        "### **isnumeric** #verificar ser possível converter em um número\n",
        "### **alpha** # é um alfabeto\n",
        "### **isalmum** # alfanumérico\n",
        "### **isupper** # está com letra maiúscula\n",
        "\n"
      ]
    },
    {
      "cell_type": "markdown",
      "metadata": {
        "id": "pIcVZXGt8CCZ"
      },
      "source": [
        "## **Exercício Python #004 - Dissecando uma Variável**\n",
        "\n",
        "---\n",
        "https://www.youtube.com/watch?v=tHYxjJxtJko\n",
        "\n",
        "---\n",
        "### **Faça um programa que leia algo pelo teclado e mostre na tela o seu tipo primitivo e todas as informações possíveis sobre eles.**\n",
        "\n"
      ]
    },
    {
      "cell_type": "code",
      "metadata": {
        "colab": {
          "base_uri": "https://localhost:8080/"
        },
        "id": "BwCCdBDC8TPJ",
        "outputId": "80458745-472a-4524-ed32-c6a661877cf2"
      },
      "source": [
        "verik = input('Digite algo no Teclado:')\n",
        "print('O tipo primitivo {} '.format(type(verik)))\n",
        "print('Só tem espaço? {}: '.format(verik.isspace()))\n",
        "print('É númerico?{}: '.format(verik.isalnum()))\n",
        "print('E alfabetico?{}: '.format(verik.isalpha()))\n",
        "print('É alfanúmerico?{}: '.format(verik.isalnum()))\n",
        "print('Está em Maiúsculas? {}: '.format(verik.isupper()))\n",
        "print('Está em minúsculas? {}: '.format(verik.islower()))\n",
        "print('Está Capitalizado? {}: '.format(verik.istitle()))"
      ],
      "execution_count": null,
      "outputs": [
        {
          "output_type": "stream",
          "name": "stdout",
          "text": [
            "Digite algo no Teclado:8jjk\n",
            "O tipo primitivo <class 'str'> \n",
            "Só tem espaço?False: \n",
            "É númerico?True: \n",
            "E alfabetico?False: \n",
            "É alfanúmerico?True: \n",
            "Está em Maiúsculas? False: \n",
            "Está em minúsculas? True: \n",
            "Está Capitalizado? False: \n"
          ]
        }
      ]
    },
    {
      "cell_type": "markdown",
      "metadata": {
        "id": "TW4C350G85jq"
      },
      "source": [
        "## **#07 - Operadores Aritméticos**\n",
        "\n",
        "---\n",
        "https://www.youtube.com/watch?v=Vw6gLypRKmY\n",
        "\n",
        "---\n",
        "**Operador aritmético simples**\n",
        "> ### + Adição \n",
        ">### - Subtração\n",
        ">### * Multiplicação\n",
        ">### / Divisão\n",
        ">### ** Exponenciação Ou Potência \n",
        ">### // Divisão Inteira \n",
        ">### % Módulo Ou O Resto Da Divisão \n",
        "---\n",
        "**Ordem de Precedência**\n",
        "\n",
        "\n",
        "### >1. ( )\n",
        "### >2. **\n",
        "### >3. * / // %\n",
        "### >4. + -\n"
      ]
    },
    {
      "cell_type": "code",
      "metadata": {
        "colab": {
          "base_uri": "https://localhost:8080/"
        },
        "id": "8ruOnM1n-ZUw",
        "outputId": "3f280e97-7174-42ce-dd45-30f0f78f591c"
      },
      "source": [
        "num1 = int(input('Digite um número: '))\n",
        "num2 = int(input('Digite um outro número:'))\n",
        "sum = num1 + num2\n",
        "mul = num1 * num2\n",
        "div = num1 / num2\n",
        "divint = num1 // num2\n",
        "exp = num1 ** num2\n",
        "print('A soma é {}\\ndivisão {:.3f} '.format(sum, div))\n",
        "print('divisão inteira {} \\npotência {} '.format(divint, exp))"
      ],
      "execution_count": 10,
      "outputs": [
        {
          "output_type": "stream",
          "name": "stdout",
          "text": [
            "Digite um número: 78\n",
            "Digite um outro número:2\n",
            "A soma é 80\n",
            "divisão 39.000 \n",
            "divisão inteira 39 \n",
            "potência 6084 \n"
          ]
        }
      ]
    },
    {
      "cell_type": "markdown",
      "metadata": {
        "id": "djJDD3Cz-fUt"
      },
      "source": [
        "### **Operador relacional de igualdade**\n",
        "### >Dois símbolos iguais.\n",
        "### >Aritmética computacional.\n",
        "### >Estudos de programação.\n",
        "\n",
        "\n"
      ]
    },
    {
      "cell_type": "markdown",
      "metadata": {
        "id": "K7jlNw8M-34b"
      },
      "source": [
        "### **Exercício Python #005 - Antecessor e Sucessor**\n",
        "\n",
        "---\n",
        "https://www.youtube.com/watch?v=664e0G_S9nU\n",
        "\n",
        "---\n",
        "**Faça um programa que leia um número inteiro e mostre seu sucessor no seu antecessor.**\n",
        "\n"
      ]
    },
    {
      "cell_type": "code",
      "metadata": {
        "colab": {
          "base_uri": "https://localhost:8080/"
        },
        "id": "yZM1xh8i_B1m",
        "outputId": "068deb92-5f69-4612-b33b-7484ab678cf2"
      },
      "source": [
        "num = int(input('Digite um número inteiro: '))\n",
        "ant = num - 1\n",
        "suc = num + 1\n",
        "print('o sucessor desse número é {} e antecessor é {}.'.format(suc, ant)) "
      ],
      "execution_count": 11,
      "outputs": [
        {
          "output_type": "stream",
          "name": "stdout",
          "text": [
            "Digite um número inteiro: 8\n",
            "o sucessor desse número é 9 e antecessor é 7.\n"
          ]
        }
      ]
    },
    {
      "cell_type": "markdown",
      "metadata": {
        "id": "SyoKOG5v_ZZm"
      },
      "source": [
        "### **Exercício Python #006 - Dobro, Triplo, Raiz Quadrada**\n",
        "\n",
        "---\n",
        "https://www.youtube.com/watch?v=mqcNw_dhl8I\n",
        "\n",
        "---\n",
        "**Crie um algoritmo que leia um número e mostre o seu dobro, o seu triplo e a sua raiz quadrada.**\n",
        "\n"
      ]
    },
    {
      "cell_type": "code",
      "metadata": {
        "colab": {
          "base_uri": "https://localhost:8080/"
        },
        "id": "8PxEIcpZ_sGn",
        "outputId": "a3d9721b-cf28-49ed-f224-f3a4249d68ad"
      },
      "source": [
        "import math\n",
        "num = float(input('Digite um número: '))\n",
        "dob = num*2\n",
        "tri = num*3\n",
        "rq = math.sqrt(num)\n",
        "print('O dobro é {}\\nO triplo é {}'.format(dob,tri))\n",
        "print('A raiz quadrada:{}'.format(rq))"
      ],
      "execution_count": 12,
      "outputs": [
        {
          "output_type": "stream",
          "name": "stdout",
          "text": [
            "Digite um número: 8\n",
            "O dobro é 16.0\n",
            "O triplo é 24.0\n",
            "A raiz quadrada:2.8284271247461903\n"
          ]
        }
      ]
    },
    {
      "cell_type": "markdown",
      "metadata": {
        "id": "85ODg52dAV5X"
      },
      "source": [
        "### **Exercício Python #007 - Média Aritmética**\n",
        "\n",
        "---\n",
        "https://www.youtube.com/watch?v=_QfISzy0IKs\n",
        "\n",
        "---\n",
        "**Desenvolver um programa que leia as duas notas do aluno, calcule e mostre sua média.**\n",
        "\n"
      ]
    },
    {
      "cell_type": "code",
      "metadata": {
        "colab": {
          "base_uri": "https://localhost:8080/"
        },
        "id": "BNQjBmFOAiPB",
        "outputId": "2aaa0cb0-7b92-4a19-af95-64bd96dc384b"
      },
      "source": [
        "nota1 = float(input('Digite a primeira nota: '))\n",
        "nota2 = float(input('Digite a segunda nota: '))\n",
        "media = (nota1 + nota2)/2 \n",
        "print('a nota 1 foi {}\\ne a nota 2 foi {}'.format(nota1, nota2))\n",
        "print('A média final:{}'.format(media))"
      ],
      "execution_count": 14,
      "outputs": [
        {
          "output_type": "stream",
          "name": "stdout",
          "text": [
            "Digite a primeira nota: 8\n",
            "Digite a segunda nota: 447\n",
            "a nota 1 foi 8.0\n",
            "e a nota 2 foi447.0\n",
            "A média final:227.5\n"
          ]
        }
      ]
    },
    {
      "cell_type": "markdown",
      "metadata": {
        "id": "osfY6u_6A6yg"
      },
      "source": [
        "### **Exercício Python #008 - Conversor de Medidas**\n",
        "\n",
        "---\n",
        "https://www.youtube.com/watch?v=KjcdG05EAZc\n",
        "\n",
        "---\n",
        "**Escreva um programa que leia um valor em metros e exiba convertido em centímetros e milímetros.**\n",
        "\n"
      ]
    },
    {
      "cell_type": "code",
      "metadata": {
        "colab": {
          "base_uri": "https://localhost:8080/"
        },
        "id": "rzH39KNIBEoF",
        "outputId": "8f6aed20-fb46-4126-81ab-d78d3c0f8c63"
      },
      "source": [
        "met = float(input('Digite o valor em metros: '))\n",
        "cent = met/100\n",
        "mili = met/1000\n",
        "print('O valor em centímetros é {}\\ne em milímetros é {}'.format(cent,mili))"
      ],
      "execution_count": 15,
      "outputs": [
        {
          "output_type": "stream",
          "name": "stdout",
          "text": [
            "Digite o valor em metros: 15\n",
            "O valor em centímetros é 0.15\n",
            "e em milímetros é 0.015\n"
          ]
        }
      ]
    },
    {
      "cell_type": "markdown",
      "metadata": {
        "id": "IKOsYYk9Ujj-"
      },
      "source": [
        "### **Exercício Python #009 – Tabuada**\n",
        "\n",
        "\n",
        "---\n",
        "\n",
        "\n",
        "https://www.youtube.com/watch?v=qajq3SI0QQs\n",
        "\n",
        "---\n",
        "**Faça um programa um número inteiro qualquer e mostre na tela sua tabuada**.\n",
        "\n"
      ]
    },
    {
      "cell_type": "code",
      "metadata": {
        "colab": {
          "base_uri": "https://localhost:8080/"
        },
        "id": "9PZf_3upVlOe",
        "outputId": "b19a89a0-6e52-49fb-dafa-f2ceb878841a"
      },
      "source": [
        "num = int(input('Digite um número para calcular a tabuada: '))\n",
        "cont = 1\n",
        "while cont<=10:\n",
        "  tab = num*cont\n",
        "  print(num, \"x\", cont,\"=\",tab)\n",
        "  cont = cont + 1"
      ],
      "execution_count": null,
      "outputs": [
        {
          "output_type": "stream",
          "name": "stdout",
          "text": [
            "Digite um número para calcular a tabuada: 4\n",
            "4 x 1 = 4\n",
            "4 x 2 = 8\n",
            "4 x 3 = 12\n",
            "4 x 4 = 16\n",
            "4 x 5 = 20\n",
            "4 x 6 = 24\n",
            "4 x 7 = 28\n",
            "4 x 8 = 32\n",
            "4 x 9 = 36\n",
            "4 x 10 = 40\n"
          ]
        }
      ]
    },
    {
      "cell_type": "markdown",
      "metadata": {
        "id": "Tji5IYegW0EC"
      },
      "source": [
        "### **Exercício Python ##010 - Conversor de Moedas**\n",
        "\n",
        "---\n",
        "https://www.youtube.com/watch?v=xM4AX3Lp2mo\n",
        "\n",
        "---\n",
        "**Crie um programa que leia quanto dinheiro uma pessoa tem na carteira e mostre quantos dólares ela pode comprar.  Considere O Dólar: U$$1.00 = 3.27.**\n",
        "\n"
      ]
    },
    {
      "cell_type": "code",
      "metadata": {
        "colab": {
          "base_uri": "https://localhost:8080/"
        },
        "id": "T6yFfjTzXEnA",
        "outputId": "bf8ba9fe-d365-48b2-e41a-9b87753db3bd"
      },
      "source": [
        "dol = float(input('Digite a cotação do Dólar no dia hoje: '))\n",
        "diReal = float(input('Digite quanto valor em R$ você possui: '))\n",
        "convDol = diReal/dol\n",
        "print('Cotação do Dólar é US$ {} e você possui R$ {}\\nConvertido US$ {:.2f}'.format(dol, diReal, convDol))\n"
      ],
      "execution_count": 16,
      "outputs": [
        {
          "output_type": "stream",
          "name": "stdout",
          "text": [
            "Digite a cotação do Dólar no dia hoje: 5.96\n",
            "Digite quanto valor em R$ você possui: 1200\n",
            "Cotação do Dólar é US$ 5.96 e você possui R$ 1200.0\n",
            "Convertido US$ 201.34\n"
          ]
        }
      ]
    },
    {
      "cell_type": "markdown",
      "metadata": {
        "id": "sDMnrdxSe8gt"
      },
      "source": [
        "### **Exercício Python #011 - Pintando Parede**\n",
        "\n",
        "---\n",
        "https://www.youtube.com/watch?v=mzSJpn9ldt4\n",
        "\n",
        "---\n",
        "**Faça um programa que leia a largura ea altura de uma parede em metros, calcule a sua área e a quantidade de tinta necessária para pintá-la, sabendo que cada litro de tinta, pinta uma área de 2m2**\n"
      ]
    },
    {
      "cell_type": "code",
      "metadata": {
        "colab": {
          "base_uri": "https://localhost:8080/"
        },
        "id": "c-duJtnkfJvT",
        "outputId": "b57cdec0-2347-42c7-8f08-9384425ce4d4"
      },
      "source": [
        "alt = float(input('Digite a altura: '))\n",
        "larg = float(input('Digite a largura: '))\n",
        "area = alt*larg\n",
        "tint = (alt*larg)/2\n",
        "print('A área em metros quadrado é',area,'e a quantidade de tinta necessária é',tint,'litro(s) de tinta')"
      ],
      "execution_count": 19,
      "outputs": [
        {
          "output_type": "stream",
          "name": "stdout",
          "text": [
            "Digite a altura: 8\n",
            "Digite a largura: 54\n",
            "A área em metros quadrado é 432.0 e a quantidade de tinta necessária é 216.0 litro(s) de tinta\n"
          ]
        }
      ]
    },
    {
      "cell_type": "markdown",
      "metadata": {
        "id": "XeOBpvdSkZYh"
      },
      "source": [
        "### **Exercício Python #012 - Calculando Descontos**\n",
        "---\n",
        "https://www.youtube.com/watch?v=4MAmKOT9FeU\n",
        "\n",
        "---\n",
        "**Faça um algoritmo que leia o preço de um produto e mostre seu novo preço com 5% de desconto.**"
      ]
    },
    {
      "cell_type": "code",
      "metadata": {
        "colab": {
          "base_uri": "https://localhost:8080/"
        },
        "id": "sHXcfV6dkjn4",
        "outputId": "a6e9a4ef-aa55-4403-8ab9-afa0e16a132b"
      },
      "source": [
        "preco = float(input('Digite o preço do produto: '))\n",
        "desc = preco * 0.95\n",
        "print('O preço do produto é R$ {} e com desconto fica R$ {:.2f}'.format(preco, desc))"
      ],
      "execution_count": null,
      "outputs": [
        {
          "output_type": "stream",
          "name": "stdout",
          "text": [
            "Digite o preço do produto: 50\n",
            "O preço do produto é R$ 50.0 e com desconto fica R$ 47.50\n"
          ]
        }
      ]
    },
    {
      "cell_type": "markdown",
      "metadata": {
        "id": "GS6ukJ05kqZD"
      },
      "source": [
        "### **Exercício Python ##013 - Reajuste Salarial**\n",
        "---\n",
        "https://www.youtube.com/watch?v=cTkivN8XcJ0\n",
        "\n",
        "---\n",
        "**Faça um algoritmo que leia o salário de um funcionário e mostre seu novo salário só que agora com 15% de aumento.**"
      ]
    },
    {
      "cell_type": "code",
      "metadata": {
        "colab": {
          "base_uri": "https://localhost:8080/"
        },
        "id": "WWasTQN7k1qK",
        "outputId": "897ffe17-012e-4c0d-91ad-518ebc92170d"
      },
      "source": [
        "sal =  float(input('Digite o preço do produto: '))\n",
        "aumSal = sal * 1.15\n",
        "print('O salário atual é R$ {} e com ajuste salarial fica R$ {:.2f}'.format(sal, aumSal))"
      ],
      "execution_count": null,
      "outputs": [
        {
          "output_type": "stream",
          "name": "stdout",
          "text": [
            "Digite o preço do produto: 554\n",
            "O salário atual é R$ 554.0 e com ajuste salarial fica R$ 637.10\n"
          ]
        }
      ]
    },
    {
      "cell_type": "markdown",
      "metadata": {
        "id": "sAcmevG8lBG0"
      },
      "source": [
        "### **Exercício Python ##014 - Conversor de Temperaturas**\n",
        "---\n",
        "https://www.youtube.com/watch?v=9l_Gay8BuAw\n",
        "\n",
        "---\n",
        "**Escreva um programa de converter uma temperatura digitada em °C e converta para °F.**"
      ]
    },
    {
      "cell_type": "code",
      "metadata": {
        "colab": {
          "base_uri": "https://localhost:8080/"
        },
        "id": "G0YOHi_OlOT6",
        "outputId": "81dc24d4-3958-44cd-c412-e4f5ad65e356"
      },
      "source": [
        "tempC = float(input('Digite a temperatura é °C: '))\n",
        "tempFa = 1.8 * tempc + 32\n",
        "print('A temperatura em Celsius é {} corresponde a {} °F'.format(tempC, tempFa))"
      ],
      "execution_count": null,
      "outputs": [
        {
          "output_type": "stream",
          "name": "stdout",
          "text": [
            "Digite a temperatura é °C: 27\n",
            "A temperatura em Celsius é 27.0 corresponde a 95.0 °F\n"
          ]
        }
      ]
    },
    {
      "cell_type": "markdown",
      "metadata": {
        "id": "GclRe9rVldCh"
      },
      "source": [
        "### **Exercício Python #015 - Aluguel de Carros**\n",
        "---\n",
        "https://www.youtube.com/watch?v=I4NYUeetLAc\n",
        "\n",
        "---\n",
        "**Escreva um programa que pergunte a quantidade de quilômetros percorridos por um carro alugado e a quantidade de dias pelos quais ele foi alugado. Calcule o preço a pagar, sabendo que o carro custa 60 reais por dia e 15 centavos por quilômetro rodado.**"
      ]
    },
    {
      "cell_type": "code",
      "metadata": {
        "colab": {
          "base_uri": "https://localhost:8080/"
        },
        "id": "ab1Lqmqklcxh",
        "outputId": "eee6dfc0-45c2-47a5-fbdf-903eda20c51b"
      },
      "source": [
        "quantKm = float(input('Quanto quilômetros percorridos até agora?'))\n",
        "quantDia  = int(input('Quantidade dias que carro foi a um alugado?'))\n",
        "calP = (quantKm * 0.15) + (quantDia * 60)\n",
        "print('O total a pagar para empresa de locação de veículos é R$ {}'.format(calP))"
      ],
      "execution_count": null,
      "outputs": [
        {
          "output_type": "stream",
          "name": "stdout",
          "text": [
            "Quanto quilômetros percorridos até agora?255\n",
            "Quantidade dias que carro foi a um alugado?24\n",
            "O total a pagar para empresa de locação de veículos é R$ 1478.25\n"
          ]
        }
      ]
    }
  ]
}